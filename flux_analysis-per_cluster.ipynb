{
 "cells": [
  {
   "cell_type": "code",
   "execution_count": 1,
   "metadata": {},
   "outputs": [],
   "source": [
    "import pandas as pd\n",
    "import numpy as np\n",
    "import seaborn as sns\n",
    "import matplotlib.pyplot as plt\n",
    "import scanpy as sc\n",
    "import mygene\n",
    "import re\n",
    "\n",
    "from scipy.stats import spearmanr, pearsonr"
   ]
  },
  {
   "cell_type": "markdown",
   "metadata": {},
   "source": [
    "### CD8"
   ]
  },
  {
   "cell_type": "code",
   "execution_count": 2,
   "metadata": {
    "scrolled": true
   },
   "outputs": [
    {
     "data": {
      "text/html": [
       "<div>\n",
       "<style scoped>\n",
       "    .dataframe tbody tr th:only-of-type {\n",
       "        vertical-align: middle;\n",
       "    }\n",
       "\n",
       "    .dataframe tbody tr th {\n",
       "        vertical-align: top;\n",
       "    }\n",
       "\n",
       "    .dataframe thead th {\n",
       "        text-align: right;\n",
       "    }\n",
       "</style>\n",
       "<table border=\"1\" class=\"dataframe\">\n",
       "  <thead>\n",
       "    <tr style=\"text-align: right;\">\n",
       "      <th></th>\n",
       "      <th>cd8_0</th>\n",
       "      <th>cd8_1</th>\n",
       "      <th>cd8_2</th>\n",
       "      <th>cd8_3</th>\n",
       "      <th>cd8_4</th>\n",
       "      <th>cd8_5</th>\n",
       "      <th>cd8_6</th>\n",
       "    </tr>\n",
       "    <tr>\n",
       "      <th>Subsystem</th>\n",
       "      <th></th>\n",
       "      <th></th>\n",
       "      <th></th>\n",
       "      <th></th>\n",
       "      <th></th>\n",
       "      <th></th>\n",
       "      <th></th>\n",
       "    </tr>\n",
       "  </thead>\n",
       "  <tbody>\n",
       "    <tr>\n",
       "      <th>Alanine and aspartate metabolism</th>\n",
       "      <td>163.526616</td>\n",
       "      <td>163.060369</td>\n",
       "      <td>277.048556</td>\n",
       "      <td>118.181818</td>\n",
       "      <td>326.161899</td>\n",
       "      <td>344.940725</td>\n",
       "      <td>482.522342</td>\n",
       "    </tr>\n",
       "    <tr>\n",
       "      <th>Aminosugar metabolism</th>\n",
       "      <td>479.440538</td>\n",
       "      <td>454.092604</td>\n",
       "      <td>221.755580</td>\n",
       "      <td>439.925158</td>\n",
       "      <td>464.089093</td>\n",
       "      <td>375.562701</td>\n",
       "      <td>472.020301</td>\n",
       "    </tr>\n",
       "    <tr>\n",
       "      <th>Androgen and estrogen synthesis and metabolism</th>\n",
       "      <td>157.608972</td>\n",
       "      <td>121.739130</td>\n",
       "      <td>113.043478</td>\n",
       "      <td>108.695652</td>\n",
       "      <td>104.347826</td>\n",
       "      <td>156.509319</td>\n",
       "      <td>148.258137</td>\n",
       "    </tr>\n",
       "    <tr>\n",
       "      <th>Arachidonic acid metabolism</th>\n",
       "      <td>90.856913</td>\n",
       "      <td>90.844761</td>\n",
       "      <td>69.161097</td>\n",
       "      <td>73.264135</td>\n",
       "      <td>75.399271</td>\n",
       "      <td>63.751167</td>\n",
       "      <td>106.534780</td>\n",
       "    </tr>\n",
       "    <tr>\n",
       "      <th>Arginine and proline metabolism</th>\n",
       "      <td>351.491194</td>\n",
       "      <td>325.958654</td>\n",
       "      <td>336.079329</td>\n",
       "      <td>367.381558</td>\n",
       "      <td>438.207854</td>\n",
       "      <td>402.594352</td>\n",
       "      <td>399.242350</td>\n",
       "    </tr>\n",
       "  </tbody>\n",
       "</table>\n",
       "</div>"
      ],
      "text/plain": [
       "                                                     cd8_0       cd8_1  \\\n",
       "Subsystem                                                                \n",
       "Alanine and aspartate metabolism                163.526616  163.060369   \n",
       "Aminosugar metabolism                           479.440538  454.092604   \n",
       "Androgen and estrogen synthesis and metabolism  157.608972  121.739130   \n",
       "Arachidonic acid metabolism                      90.856913   90.844761   \n",
       "Arginine and proline metabolism                 351.491194  325.958654   \n",
       "\n",
       "                                                     cd8_2       cd8_3  \\\n",
       "Subsystem                                                                \n",
       "Alanine and aspartate metabolism                277.048556  118.181818   \n",
       "Aminosugar metabolism                           221.755580  439.925158   \n",
       "Androgen and estrogen synthesis and metabolism  113.043478  108.695652   \n",
       "Arachidonic acid metabolism                      69.161097   73.264135   \n",
       "Arginine and proline metabolism                 336.079329  367.381558   \n",
       "\n",
       "                                                     cd8_4       cd8_5  \\\n",
       "Subsystem                                                                \n",
       "Alanine and aspartate metabolism                326.161899  344.940725   \n",
       "Aminosugar metabolism                           464.089093  375.562701   \n",
       "Androgen and estrogen synthesis and metabolism  104.347826  156.509319   \n",
       "Arachidonic acid metabolism                      75.399271   63.751167   \n",
       "Arginine and proline metabolism                 438.207854  402.594352   \n",
       "\n",
       "                                                     cd8_6  \n",
       "Subsystem                                                   \n",
       "Alanine and aspartate metabolism                482.522342  \n",
       "Aminosugar metabolism                           472.020301  \n",
       "Androgen and estrogen synthesis and metabolism  148.258137  \n",
       "Arachidonic acid metabolism                     106.534780  \n",
       "Arginine and proline metabolism                 399.242350  "
      ]
     },
     "execution_count": 2,
     "metadata": {},
     "output_type": "execute_result"
    }
   ],
   "source": [
    "master_dir = '../'\n",
    "fluxes_cd8 = pd.read_excel(master_dir + 'output/Flux_analysis-per_cluster.xlsx', sheet_name='cd8')\n",
    "fluxes_cd8.index = fluxes_cd8['Subsystem']\n",
    "fluxes_cd8 = fluxes_cd8.drop(columns=['Subsystem'])\n",
    "fluxes_cd8.head()"
   ]
  },
  {
   "cell_type": "code",
   "execution_count": 22,
   "metadata": {
    "scrolled": true
   },
   "outputs": [
    {
     "data": {
      "image/png": "[encoded data removed]",
      "text/plain": [
       "<Figure size 360x180 with 2 Axes>"
      ]
     },
     "metadata": {
      "needs_background": "light"
     },
     "output_type": "display_data"
    }
   ],
   "source": [
    "intensities = np.array(np.mean(fluxes_cd8, axis=1))\n",
    "fluxes_cd8['mean'] = intensities\n",
    "fluxes_cd8 = fluxes_cd8.sort_values(by='mean', ascending=False)\n",
    "fluxes_cd8 = fluxes_cd8.drop(columns='mean')\n",
    "\n",
    "fig = plt.figure(figsize=(5, 2.5))\n",
    "fig = sns.heatmap(fluxes_cd8.head(10).iloc[:, [4, 1, 0, 2, 3, 5, 6]])\n",
    "fig = plt.ylabel('')"
   ]
  },
  {
   "cell_type": "markdown",
   "metadata": {},
   "source": [
    "### CD4"
   ]
  },
  {
   "cell_type": "code",
   "execution_count": 4,
   "metadata": {},
   "outputs": [
    {
     "data": {
      "text/html": [
       "<div>\n",
       "<style scoped>\n",
       "    .dataframe tbody tr th:only-of-type {\n",
       "        vertical-align: middle;\n",
       "    }\n",
       "\n",
       "    .dataframe tbody tr th {\n",
       "        vertical-align: top;\n",
       "    }\n",
       "\n",
       "    .dataframe thead th {\n",
       "        text-align: right;\n",
       "    }\n",
       "</style>\n",
       "<table border=\"1\" class=\"dataframe\">\n",
       "  <thead>\n",
       "    <tr style=\"text-align: right;\">\n",
       "      <th></th>\n",
       "      <th>cd4_0</th>\n",
       "      <th>cd4_1</th>\n",
       "      <th>cd4_2</th>\n",
       "      <th>cd4_3</th>\n",
       "      <th>cd4_4</th>\n",
       "      <th>cd4_5</th>\n",
       "      <th>cd4_6</th>\n",
       "      <th>cd4_7</th>\n",
       "    </tr>\n",
       "    <tr>\n",
       "      <th>Subsystem</th>\n",
       "      <th></th>\n",
       "      <th></th>\n",
       "      <th></th>\n",
       "      <th></th>\n",
       "      <th></th>\n",
       "      <th></th>\n",
       "      <th></th>\n",
       "      <th></th>\n",
       "    </tr>\n",
       "  </thead>\n",
       "  <tbody>\n",
       "    <tr>\n",
       "      <th>Alanine and aspartate metabolism</th>\n",
       "      <td>165.308344</td>\n",
       "      <td>164.380622</td>\n",
       "      <td>329.351750</td>\n",
       "      <td>118.181818</td>\n",
       "      <td>153.804766</td>\n",
       "      <td>151.751626</td>\n",
       "      <td>471.355105</td>\n",
       "      <td>259.510357</td>\n",
       "    </tr>\n",
       "    <tr>\n",
       "      <th>Aminosugar metabolism</th>\n",
       "      <td>463.454342</td>\n",
       "      <td>451.467845</td>\n",
       "      <td>388.320830</td>\n",
       "      <td>304.606584</td>\n",
       "      <td>431.198465</td>\n",
       "      <td>412.752655</td>\n",
       "      <td>458.164533</td>\n",
       "      <td>465.408072</td>\n",
       "    </tr>\n",
       "    <tr>\n",
       "      <th>Androgen and estrogen synthesis and metabolism</th>\n",
       "      <td>91.304348</td>\n",
       "      <td>82.608696</td>\n",
       "      <td>82.608696</td>\n",
       "      <td>86.956522</td>\n",
       "      <td>156.850642</td>\n",
       "      <td>99.629761</td>\n",
       "      <td>135.459142</td>\n",
       "      <td>113.043478</td>\n",
       "    </tr>\n",
       "    <tr>\n",
       "      <th>Arachidonic acid metabolism</th>\n",
       "      <td>91.074926</td>\n",
       "      <td>110.715733</td>\n",
       "      <td>73.372890</td>\n",
       "      <td>86.040772</td>\n",
       "      <td>87.990445</td>\n",
       "      <td>88.405161</td>\n",
       "      <td>105.607989</td>\n",
       "      <td>111.727864</td>\n",
       "    </tr>\n",
       "    <tr>\n",
       "      <th>Arginine and proline metabolism</th>\n",
       "      <td>312.498712</td>\n",
       "      <td>320.982871</td>\n",
       "      <td>282.885569</td>\n",
       "      <td>247.510513</td>\n",
       "      <td>305.009292</td>\n",
       "      <td>395.824113</td>\n",
       "      <td>403.806555</td>\n",
       "      <td>401.687346</td>\n",
       "    </tr>\n",
       "  </tbody>\n",
       "</table>\n",
       "</div>"
      ],
      "text/plain": [
       "                                                     cd4_0       cd4_1  \\\n",
       "Subsystem                                                                \n",
       "Alanine and aspartate metabolism                165.308344  164.380622   \n",
       "Aminosugar metabolism                           463.454342  451.467845   \n",
       "Androgen and estrogen synthesis and metabolism   91.304348   82.608696   \n",
       "Arachidonic acid metabolism                      91.074926  110.715733   \n",
       "Arginine and proline metabolism                 312.498712  320.982871   \n",
       "\n",
       "                                                     cd4_2       cd4_3  \\\n",
       "Subsystem                                                                \n",
       "Alanine and aspartate metabolism                329.351750  118.181818   \n",
       "Aminosugar metabolism                           388.320830  304.606584   \n",
       "Androgen and estrogen synthesis and metabolism   82.608696   86.956522   \n",
       "Arachidonic acid metabolism                      73.372890   86.040772   \n",
       "Arginine and proline metabolism                 282.885569  247.510513   \n",
       "\n",
       "                                                     cd4_4       cd4_5  \\\n",
       "Subsystem                                                                \n",
       "Alanine and aspartate metabolism                153.804766  151.751626   \n",
       "Aminosugar metabolism                           431.198465  412.752655   \n",
       "Androgen and estrogen synthesis and metabolism  156.850642   99.629761   \n",
       "Arachidonic acid metabolism                      87.990445   88.405161   \n",
       "Arginine and proline metabolism                 305.009292  395.824113   \n",
       "\n",
       "                                                     cd4_6       cd4_7  \n",
       "Subsystem                                                               \n",
       "Alanine and aspartate metabolism                471.355105  259.510357  \n",
       "Aminosugar metabolism                           458.164533  465.408072  \n",
       "Androgen and estrogen synthesis and metabolism  135.459142  113.043478  \n",
       "Arachidonic acid metabolism                     105.607989  111.727864  \n",
       "Arginine and proline metabolism                 403.806555  401.687346  "
      ]
     },
     "execution_count": 4,
     "metadata": {},
     "output_type": "execute_result"
    }
   ],
   "source": [
    "fluxes_cd4 = pd.read_excel(master_dir + 'output/Flux_analysis-per_cluster.xlsx', sheet_name='cd4')\n",
    "fluxes_cd4.index = fluxes_cd4['Subsystem']\n",
    "fluxes_cd4 = fluxes_cd4.drop(columns=['Subsystem'])\n",
    "fluxes_cd4.head()"
   ]
  },
  {
   "cell_type": "code",
   "execution_count": 24,
   "metadata": {
    "scrolled": true
   },
   "outputs": [
    {
     "data": {
      "image/png": "[encoded data removed]",
      "text/plain": [
       "<Figure size 360x216 with 2 Axes>"
      ]
     },
     "metadata": {
      "needs_background": "light"
     },
     "output_type": "display_data"
    }
   ],
   "source": [
    "intensities = np.array(np.mean(fluxes_cd4, axis=1))\n",
    "fluxes_cd4['mean'] = intensities\n",
    "fluxes_cd4 = fluxes_cd4.sort_values(by='mean', ascending=False)\n",
    "fluxes_cd4 = fluxes_cd4.drop(columns='mean')\n",
    "\n",
    "fig = plt.figure(figsize=(5, 3))\n",
    "fig = sns.heatmap(fluxes_cd4.head(10).iloc[:, [1, 5, 0, 7, 6, 2, 3, 4]])\n",
    "fig = plt.ylabel('')"
   ]
  },
  {
   "cell_type": "markdown",
   "metadata": {},
   "source": [
    "### B"
   ]
  },
  {
   "cell_type": "code",
   "execution_count": 6,
   "metadata": {},
   "outputs": [
    {
     "data": {
      "text/html": [
       "<div>\n",
       "<style scoped>\n",
       "    .dataframe tbody tr th:only-of-type {\n",
       "        vertical-align: middle;\n",
       "    }\n",
       "\n",
       "    .dataframe tbody tr th {\n",
       "        vertical-align: top;\n",
       "    }\n",
       "\n",
       "    .dataframe thead th {\n",
       "        text-align: right;\n",
       "    }\n",
       "</style>\n",
       "<table border=\"1\" class=\"dataframe\">\n",
       "  <thead>\n",
       "    <tr style=\"text-align: right;\">\n",
       "      <th></th>\n",
       "      <th>Bcell_0</th>\n",
       "      <th>Bcell_1</th>\n",
       "      <th>Bcell_2</th>\n",
       "      <th>Bcell_3</th>\n",
       "      <th>Bcell_4</th>\n",
       "      <th>Bcell_5</th>\n",
       "      <th>Bcell_6</th>\n",
       "    </tr>\n",
       "    <tr>\n",
       "      <th>Subsystem</th>\n",
       "      <th></th>\n",
       "      <th></th>\n",
       "      <th></th>\n",
       "      <th></th>\n",
       "      <th></th>\n",
       "      <th></th>\n",
       "      <th></th>\n",
       "    </tr>\n",
       "  </thead>\n",
       "  <tbody>\n",
       "    <tr>\n",
       "      <th>Alanine and aspartate metabolism</th>\n",
       "      <td>330.260826</td>\n",
       "      <td>154.057461</td>\n",
       "      <td>174.983359</td>\n",
       "      <td>577.258582</td>\n",
       "      <td>153.129114</td>\n",
       "      <td>324.495167</td>\n",
       "      <td>62.629507</td>\n",
       "    </tr>\n",
       "    <tr>\n",
       "      <th>Aminosugar metabolism</th>\n",
       "      <td>475.800191</td>\n",
       "      <td>441.354321</td>\n",
       "      <td>365.822245</td>\n",
       "      <td>465.440788</td>\n",
       "      <td>431.834992</td>\n",
       "      <td>394.483195</td>\n",
       "      <td>229.169121</td>\n",
       "    </tr>\n",
       "    <tr>\n",
       "      <th>Androgen and estrogen synthesis and metabolism</th>\n",
       "      <td>117.391304</td>\n",
       "      <td>86.956522</td>\n",
       "      <td>82.608696</td>\n",
       "      <td>82.608696</td>\n",
       "      <td>156.934541</td>\n",
       "      <td>86.956522</td>\n",
       "      <td>117.391304</td>\n",
       "    </tr>\n",
       "    <tr>\n",
       "      <th>Arachidonic acid metabolism</th>\n",
       "      <td>109.822427</td>\n",
       "      <td>102.374839</td>\n",
       "      <td>96.195690</td>\n",
       "      <td>77.075646</td>\n",
       "      <td>106.336684</td>\n",
       "      <td>104.904739</td>\n",
       "      <td>53.502366</td>\n",
       "    </tr>\n",
       "    <tr>\n",
       "      <th>Arginine and proline metabolism</th>\n",
       "      <td>346.092708</td>\n",
       "      <td>359.290873</td>\n",
       "      <td>388.892919</td>\n",
       "      <td>406.259229</td>\n",
       "      <td>300.955997</td>\n",
       "      <td>339.847499</td>\n",
       "      <td>243.260664</td>\n",
       "    </tr>\n",
       "  </tbody>\n",
       "</table>\n",
       "</div>"
      ],
      "text/plain": [
       "                                                   Bcell_0     Bcell_1  \\\n",
       "Subsystem                                                                \n",
       "Alanine and aspartate metabolism                330.260826  154.057461   \n",
       "Aminosugar metabolism                           475.800191  441.354321   \n",
       "Androgen and estrogen synthesis and metabolism  117.391304   86.956522   \n",
       "Arachidonic acid metabolism                     109.822427  102.374839   \n",
       "Arginine and proline metabolism                 346.092708  359.290873   \n",
       "\n",
       "                                                   Bcell_2     Bcell_3  \\\n",
       "Subsystem                                                                \n",
       "Alanine and aspartate metabolism                174.983359  577.258582   \n",
       "Aminosugar metabolism                           365.822245  465.440788   \n",
       "Androgen and estrogen synthesis and metabolism   82.608696   82.608696   \n",
       "Arachidonic acid metabolism                      96.195690   77.075646   \n",
       "Arginine and proline metabolism                 388.892919  406.259229   \n",
       "\n",
       "                                                   Bcell_4     Bcell_5  \\\n",
       "Subsystem                                                                \n",
       "Alanine and aspartate metabolism                153.129114  324.495167   \n",
       "Aminosugar metabolism                           431.834992  394.483195   \n",
       "Androgen and estrogen synthesis and metabolism  156.934541   86.956522   \n",
       "Arachidonic acid metabolism                     106.336684  104.904739   \n",
       "Arginine and proline metabolism                 300.955997  339.847499   \n",
       "\n",
       "                                                   Bcell_6  \n",
       "Subsystem                                                   \n",
       "Alanine and aspartate metabolism                 62.629507  \n",
       "Aminosugar metabolism                           229.169121  \n",
       "Androgen and estrogen synthesis and metabolism  117.391304  \n",
       "Arachidonic acid metabolism                      53.502366  \n",
       "Arginine and proline metabolism                 243.260664  "
      ]
     },
     "execution_count": 6,
     "metadata": {},
     "output_type": "execute_result"
    }
   ],
   "source": [
    "fluxes_B = pd.read_excel(master_dir + 'output/Flux_analysis-per_cluster.xlsx', sheet_name='B')\n",
    "fluxes_B.index = fluxes_B['Subsystem']\n",
    "fluxes_B = fluxes_B.drop(columns=['Subsystem'])\n",
    "fluxes_B.head()"
   ]
  },
  {
   "cell_type": "code",
   "execution_count": 25,
   "metadata": {
    "scrolled": true
   },
   "outputs": [
    {
     "data": {
      "image/png": "[encoded data removed]",
      "text/plain": [
       "<Figure size 360x180 with 2 Axes>"
      ]
     },
     "metadata": {
      "needs_background": "light"
     },
     "output_type": "display_data"
    }
   ],
   "source": [
    "intensities = np.array(np.mean(fluxes_B, axis=1))\n",
    "fluxes_B['mean'] = intensities\n",
    "fluxes_B = fluxes_B.sort_values(by='mean', ascending=False)\n",
    "fluxes_B = fluxes_B.drop(columns='mean')\n",
    "\n",
    "fig = plt.figure(figsize=(5, 2.5))\n",
    "fig = sns.heatmap(fluxes_B.head(10).iloc[:, [5, 0, 6, 2, 4, 1, 3]])\n",
    "fig = plt.ylabel('')"
   ]
  },
  {
   "cell_type": "markdown",
   "metadata": {},
   "source": [
    "### NK"
   ]
  },
  {
   "cell_type": "code",
   "execution_count": 8,
   "metadata": {},
   "outputs": [
    {
     "data": {
      "text/html": [
       "<div>\n",
       "<style scoped>\n",
       "    .dataframe tbody tr th:only-of-type {\n",
       "        vertical-align: middle;\n",
       "    }\n",
       "\n",
       "    .dataframe tbody tr th {\n",
       "        vertical-align: top;\n",
       "    }\n",
       "\n",
       "    .dataframe thead th {\n",
       "        text-align: right;\n",
       "    }\n",
       "</style>\n",
       "<table border=\"1\" class=\"dataframe\">\n",
       "  <thead>\n",
       "    <tr style=\"text-align: right;\">\n",
       "      <th></th>\n",
       "      <th>NKcell_0</th>\n",
       "      <th>NKcell_1</th>\n",
       "      <th>NKcell_2</th>\n",
       "      <th>NKcell_3</th>\n",
       "      <th>NKcell_4</th>\n",
       "      <th>NKcell_5</th>\n",
       "    </tr>\n",
       "    <tr>\n",
       "      <th>Subsystem</th>\n",
       "      <th></th>\n",
       "      <th></th>\n",
       "      <th></th>\n",
       "      <th></th>\n",
       "      <th></th>\n",
       "      <th></th>\n",
       "    </tr>\n",
       "  </thead>\n",
       "  <tbody>\n",
       "    <tr>\n",
       "      <th>Alanine and aspartate metabolism</th>\n",
       "      <td>154.937522</td>\n",
       "      <td>118.181818</td>\n",
       "      <td>245.304961</td>\n",
       "      <td>159.432797</td>\n",
       "      <td>325.972267</td>\n",
       "      <td>324.478866</td>\n",
       "    </tr>\n",
       "    <tr>\n",
       "      <th>Aminosugar metabolism</th>\n",
       "      <td>403.796821</td>\n",
       "      <td>385.260474</td>\n",
       "      <td>436.376370</td>\n",
       "      <td>330.888186</td>\n",
       "      <td>465.347740</td>\n",
       "      <td>434.666824</td>\n",
       "    </tr>\n",
       "    <tr>\n",
       "      <th>Androgen and estrogen synthesis and metabolism</th>\n",
       "      <td>165.381162</td>\n",
       "      <td>156.950880</td>\n",
       "      <td>152.381874</td>\n",
       "      <td>130.434783</td>\n",
       "      <td>157.363579</td>\n",
       "      <td>156.193323</td>\n",
       "    </tr>\n",
       "    <tr>\n",
       "      <th>Arachidonic acid metabolism</th>\n",
       "      <td>89.443096</td>\n",
       "      <td>64.019893</td>\n",
       "      <td>69.382665</td>\n",
       "      <td>56.367932</td>\n",
       "      <td>88.828563</td>\n",
       "      <td>79.814229</td>\n",
       "    </tr>\n",
       "    <tr>\n",
       "      <th>Arginine and proline metabolism</th>\n",
       "      <td>335.078075</td>\n",
       "      <td>309.389645</td>\n",
       "      <td>325.984754</td>\n",
       "      <td>285.294118</td>\n",
       "      <td>341.524121</td>\n",
       "      <td>349.157799</td>\n",
       "    </tr>\n",
       "  </tbody>\n",
       "</table>\n",
       "</div>"
      ],
      "text/plain": [
       "                                                  NKcell_0    NKcell_1  \\\n",
       "Subsystem                                                                \n",
       "Alanine and aspartate metabolism                154.937522  118.181818   \n",
       "Aminosugar metabolism                           403.796821  385.260474   \n",
       "Androgen and estrogen synthesis and metabolism  165.381162  156.950880   \n",
       "Arachidonic acid metabolism                      89.443096   64.019893   \n",
       "Arginine and proline metabolism                 335.078075  309.389645   \n",
       "\n",
       "                                                  NKcell_2    NKcell_3  \\\n",
       "Subsystem                                                                \n",
       "Alanine and aspartate metabolism                245.304961  159.432797   \n",
       "Aminosugar metabolism                           436.376370  330.888186   \n",
       "Androgen and estrogen synthesis and metabolism  152.381874  130.434783   \n",
       "Arachidonic acid metabolism                      69.382665   56.367932   \n",
       "Arginine and proline metabolism                 325.984754  285.294118   \n",
       "\n",
       "                                                  NKcell_4    NKcell_5  \n",
       "Subsystem                                                               \n",
       "Alanine and aspartate metabolism                325.972267  324.478866  \n",
       "Aminosugar metabolism                           465.347740  434.666824  \n",
       "Androgen and estrogen synthesis and metabolism  157.363579  156.193323  \n",
       "Arachidonic acid metabolism                      88.828563   79.814229  \n",
       "Arginine and proline metabolism                 341.524121  349.157799  "
      ]
     },
     "execution_count": 8,
     "metadata": {},
     "output_type": "execute_result"
    }
   ],
   "source": [
    "fluxes_NK = pd.read_excel(master_dir + 'output/Flux_analysis-per_cluster.xlsx', sheet_name='NK')\n",
    "fluxes_NK.index = fluxes_NK['Subsystem']\n",
    "fluxes_NK = fluxes_NK.drop(columns=['Subsystem'])\n",
    "fluxes_NK.head()"
   ]
  },
  {
   "cell_type": "code",
   "execution_count": 26,
   "metadata": {
    "scrolled": true
   },
   "outputs": [
    {
     "data": {
      "image/png": "[encoded data removed]",
      "text/plain": [
       "<Figure size 360x180 with 2 Axes>"
      ]
     },
     "metadata": {
      "needs_background": "light"
     },
     "output_type": "display_data"
    }
   ],
   "source": [
    "intensities = np.array(np.mean(fluxes_NK, axis=1))\n",
    "fluxes_NK['mean'] = intensities\n",
    "fluxes_NK = fluxes_NK.sort_values(by='mean', ascending=False)\n",
    "fluxes_NK = fluxes_NK.drop(columns='mean')\n",
    "\n",
    "fig = plt.figure(figsize=(5, 2.5))\n",
    "fig = sns.heatmap(fluxes_NK.head(10).iloc[:, [3, 1, 2, 5, 0, 4]])\n",
    "fig = plt.ylabel('')"
   ]
  },
  {
   "cell_type": "markdown",
   "metadata": {},
   "source": [
    "### Monocyte"
   ]
  },
  {
   "cell_type": "code",
   "execution_count": 10,
   "metadata": {
    "scrolled": true
   },
   "outputs": [
    {
     "data": {
      "text/html": [
       "<div>\n",
       "<style scoped>\n",
       "    .dataframe tbody tr th:only-of-type {\n",
       "        vertical-align: middle;\n",
       "    }\n",
       "\n",
       "    .dataframe tbody tr th {\n",
       "        vertical-align: top;\n",
       "    }\n",
       "\n",
       "    .dataframe thead th {\n",
       "        text-align: right;\n",
       "    }\n",
       "</style>\n",
       "<table border=\"1\" class=\"dataframe\">\n",
       "  <thead>\n",
       "    <tr style=\"text-align: right;\">\n",
       "      <th></th>\n",
       "      <th>Monocyte_0</th>\n",
       "      <th>Monocyte_1</th>\n",
       "      <th>Monocyte_2</th>\n",
       "      <th>Monocyte_3</th>\n",
       "      <th>Monocyte_4</th>\n",
       "      <th>Monocyte_5</th>\n",
       "      <th>Monocyte_6</th>\n",
       "      <th>Monocyte_7</th>\n",
       "      <th>Monocyte_8</th>\n",
       "    </tr>\n",
       "    <tr>\n",
       "      <th>Subsystem</th>\n",
       "      <th></th>\n",
       "      <th></th>\n",
       "      <th></th>\n",
       "      <th></th>\n",
       "      <th></th>\n",
       "      <th></th>\n",
       "      <th></th>\n",
       "      <th></th>\n",
       "      <th></th>\n",
       "    </tr>\n",
       "  </thead>\n",
       "  <tbody>\n",
       "    <tr>\n",
       "      <th>Nucleotide interconversion</th>\n",
       "      <td>781.030618</td>\n",
       "      <td>746.999649</td>\n",
       "      <td>816.440342</td>\n",
       "      <td>794.583679</td>\n",
       "      <td>797.725325</td>\n",
       "      <td>799.052629</td>\n",
       "      <td>744.154232</td>\n",
       "      <td>796.959893</td>\n",
       "      <td>801.110584</td>\n",
       "    </tr>\n",
       "    <tr>\n",
       "      <th>Citric acid cycle</th>\n",
       "      <td>769.279499</td>\n",
       "      <td>778.971083</td>\n",
       "      <td>768.823023</td>\n",
       "      <td>821.856340</td>\n",
       "      <td>759.918711</td>\n",
       "      <td>768.716281</td>\n",
       "      <td>777.842721</td>\n",
       "      <td>772.941276</td>\n",
       "      <td>816.132746</td>\n",
       "    </tr>\n",
       "    <tr>\n",
       "      <th>Pyruvate metabolism</th>\n",
       "      <td>713.210167</td>\n",
       "      <td>585.425143</td>\n",
       "      <td>676.201227</td>\n",
       "      <td>654.451115</td>\n",
       "      <td>627.850513</td>\n",
       "      <td>689.279551</td>\n",
       "      <td>583.229966</td>\n",
       "      <td>688.668232</td>\n",
       "      <td>767.582765</td>\n",
       "    </tr>\n",
       "    <tr>\n",
       "      <th>Taurine and hypotaurine metabolism</th>\n",
       "      <td>695.219585</td>\n",
       "      <td>786.507393</td>\n",
       "      <td>710.865814</td>\n",
       "      <td>512.474044</td>\n",
       "      <td>581.247427</td>\n",
       "      <td>609.663165</td>\n",
       "      <td>760.721025</td>\n",
       "      <td>530.757168</td>\n",
       "      <td>716.610902</td>\n",
       "    </tr>\n",
       "    <tr>\n",
       "      <th>Pentose phosphate pathway</th>\n",
       "      <td>661.487358</td>\n",
       "      <td>639.800248</td>\n",
       "      <td>671.425861</td>\n",
       "      <td>690.811901</td>\n",
       "      <td>690.908779</td>\n",
       "      <td>659.640572</td>\n",
       "      <td>662.545081</td>\n",
       "      <td>690.110915</td>\n",
       "      <td>747.370225</td>\n",
       "    </tr>\n",
       "  </tbody>\n",
       "</table>\n",
       "</div>"
      ],
      "text/plain": [
       "                                    Monocyte_0  Monocyte_1  Monocyte_2  \\\n",
       "Subsystem                                                                \n",
       "Nucleotide interconversion          781.030618  746.999649  816.440342   \n",
       "Citric acid cycle                   769.279499  778.971083  768.823023   \n",
       "Pyruvate metabolism                 713.210167  585.425143  676.201227   \n",
       "Taurine and hypotaurine metabolism  695.219585  786.507393  710.865814   \n",
       "Pentose phosphate pathway           661.487358  639.800248  671.425861   \n",
       "\n",
       "                                    Monocyte_3  Monocyte_4  Monocyte_5  \\\n",
       "Subsystem                                                                \n",
       "Nucleotide interconversion          794.583679  797.725325  799.052629   \n",
       "Citric acid cycle                   821.856340  759.918711  768.716281   \n",
       "Pyruvate metabolism                 654.451115  627.850513  689.279551   \n",
       "Taurine and hypotaurine metabolism  512.474044  581.247427  609.663165   \n",
       "Pentose phosphate pathway           690.811901  690.908779  659.640572   \n",
       "\n",
       "                                    Monocyte_6  Monocyte_7  Monocyte_8  \n",
       "Subsystem                                                               \n",
       "Nucleotide interconversion          744.154232  796.959893  801.110584  \n",
       "Citric acid cycle                   777.842721  772.941276  816.132746  \n",
       "Pyruvate metabolism                 583.229966  688.668232  767.582765  \n",
       "Taurine and hypotaurine metabolism  760.721025  530.757168  716.610902  \n",
       "Pentose phosphate pathway           662.545081  690.110915  747.370225  "
      ]
     },
     "execution_count": 10,
     "metadata": {},
     "output_type": "execute_result"
    }
   ],
   "source": [
    "fluxes_Monocyte = pd.read_excel(master_dir + 'output/Flux_analysis-per_cluster.xlsx', sheet_name='Monocytes')\n",
    "fluxes_Monocyte.index = fluxes_Monocyte['Subsystem']\n",
    "fluxes_Monocyte = fluxes_Monocyte.drop(columns=['Subsystem'])\n",
    "fluxes_Monocyte.head()"
   ]
  },
  {
   "cell_type": "code",
   "execution_count": 30,
   "metadata": {
    "scrolled": true
   },
   "outputs": [
    {
     "data": {
      "image/png": "[encoded data removed]",
      "text/plain": [
       "<Figure size 360x180 with 2 Axes>"
      ]
     },
     "metadata": {
      "needs_background": "light"
     },
     "output_type": "display_data"
    }
   ],
   "source": [
    "intensities = np.array(np.mean(fluxes_Monocyte, axis=1))\n",
    "fluxes_Monocyte['mean'] = intensities\n",
    "fluxes_Monocyte = fluxes_Monocyte.sort_values(by='mean', ascending=False)\n",
    "fluxes_Monocyte = fluxes_Monocyte.drop(columns='mean')\n",
    "\n",
    "fig = plt.figure(figsize=(5, 2.5))\n",
    "fig = sns.heatmap(fluxes_Monocyte.head(10).iloc[:, [6, 1, 5, 2, 7, 3, 4, 0, 8]])\n",
    "fig = plt.ylabel('')"
   ]
  },
  {
   "cell_type": "markdown",
   "metadata": {},
   "source": [
    "## "
   ]
  },
  {
   "cell_type": "code",
   "execution_count": 41,
   "metadata": {
    "collapsed": true
   },
   "outputs": [
    {
     "ename": "AttributeError",
     "evalue": "'NoneType' object has no attribute 'dtype'",
     "output_type": "error",
     "traceback": [
      "\u001b[1;31m---------------------------------------------------------------------------\u001b[0m",
      "\u001b[1;31mAttributeError\u001b[0m                            Traceback (most recent call last)",
      "\u001b[1;32m<ipython-input-41-d4ab8f848d98>\u001b[0m in \u001b[0;36m<module>\u001b[1;34m\u001b[0m\n\u001b[0;32m      4\u001b[0m     \u001b[0mtemp\u001b[0m\u001b[1;33m.\u001b[0m\u001b[0mobs\u001b[0m\u001b[1;33m[\u001b[0m\u001b[1;34m'louvain_metab'\u001b[0m\u001b[1;33m]\u001b[0m \u001b[1;33m=\u001b[0m \u001b[0mdf\u001b[0m\u001b[1;33m.\u001b[0m\u001b[0mcolumns\u001b[0m\u001b[1;33m\u001b[0m\u001b[1;33m\u001b[0m\u001b[0m\n\u001b[0;32m      5\u001b[0m     \u001b[0mtemp\u001b[0m\u001b[1;33m.\u001b[0m\u001b[0mvar_names\u001b[0m \u001b[1;33m=\u001b[0m \u001b[0mdf\u001b[0m\u001b[1;33m.\u001b[0m\u001b[0mindex\u001b[0m\u001b[1;33m\u001b[0m\u001b[1;33m\u001b[0m\u001b[0m\n\u001b[1;32m----> 6\u001b[1;33m     \u001b[0mfluxes\u001b[0m \u001b[1;33m=\u001b[0m \u001b[0mfluxes\u001b[0m\u001b[1;33m.\u001b[0m\u001b[0mconcatenate\u001b[0m\u001b[1;33m(\u001b[0m\u001b[0mtemp\u001b[0m\u001b[1;33m)\u001b[0m\u001b[1;33m\u001b[0m\u001b[1;33m\u001b[0m\u001b[0m\n\u001b[0m\u001b[0;32m      7\u001b[0m \u001b[1;31m# Integrate all in one\u001b[0m\u001b[1;33m\u001b[0m\u001b[1;33m\u001b[0m\u001b[1;33m\u001b[0m\u001b[0m\n",
      "\u001b[1;32mC:\\ProgramData\\Anaconda3\\lib\\site-packages\\anndata\\_core\\anndata.py\u001b[0m in \u001b[0;36mconcatenate\u001b[1;34m(self, join, batch_key, batch_categories, uns_merge, index_unique, fill_value, *adatas)\u001b[0m\n\u001b[0;32m   1703\u001b[0m             \u001b[0muns_merge\u001b[0m\u001b[1;33m=\u001b[0m\u001b[0muns_merge\u001b[0m\u001b[1;33m,\u001b[0m\u001b[1;33m\u001b[0m\u001b[1;33m\u001b[0m\u001b[0m\n\u001b[0;32m   1704\u001b[0m             \u001b[0mfill_value\u001b[0m\u001b[1;33m=\u001b[0m\u001b[0mfill_value\u001b[0m\u001b[1;33m,\u001b[0m\u001b[1;33m\u001b[0m\u001b[1;33m\u001b[0m\u001b[0m\n\u001b[1;32m-> 1705\u001b[1;33m             \u001b[0mindex_unique\u001b[0m\u001b[1;33m=\u001b[0m\u001b[0mindex_unique\u001b[0m\u001b[1;33m,\u001b[0m\u001b[1;33m\u001b[0m\u001b[1;33m\u001b[0m\u001b[0m\n\u001b[0m\u001b[0;32m   1706\u001b[0m         )\n\u001b[0;32m   1707\u001b[0m \u001b[1;33m\u001b[0m\u001b[0m\n",
      "\u001b[1;32mC:\\ProgramData\\Anaconda3\\lib\\site-packages\\anndata\\_core\\merge.py\u001b[0m in \u001b[0;36mconcat\u001b[1;34m(adatas, join, batch_key, batch_categories, uns_merge, index_unique, fill_value)\u001b[0m\n\u001b[0;32m    473\u001b[0m     )\n\u001b[0;32m    474\u001b[0m \u001b[1;33m\u001b[0m\u001b[0m\n\u001b[1;32m--> 475\u001b[1;33m     \u001b[0mX\u001b[0m \u001b[1;33m=\u001b[0m \u001b[0mconcat_arrays\u001b[0m\u001b[1;33m(\u001b[0m\u001b[1;33m[\u001b[0m\u001b[0ma\u001b[0m\u001b[1;33m.\u001b[0m\u001b[0mX\u001b[0m \u001b[1;32mfor\u001b[0m \u001b[0ma\u001b[0m \u001b[1;32min\u001b[0m \u001b[0madatas\u001b[0m\u001b[1;33m]\u001b[0m\u001b[1;33m,\u001b[0m \u001b[0mreindexers\u001b[0m\u001b[1;33m,\u001b[0m \u001b[0mfill_value\u001b[0m\u001b[1;33m=\u001b[0m\u001b[0mfill_value\u001b[0m\u001b[1;33m)\u001b[0m\u001b[1;33m\u001b[0m\u001b[1;33m\u001b[0m\u001b[0m\n\u001b[0m\u001b[0;32m    476\u001b[0m \u001b[1;33m\u001b[0m\u001b[0m\n\u001b[0;32m    477\u001b[0m     \u001b[1;32mif\u001b[0m \u001b[0mjoin\u001b[0m \u001b[1;33m==\u001b[0m \u001b[1;34m\"inner\"\u001b[0m\u001b[1;33m:\u001b[0m\u001b[1;33m\u001b[0m\u001b[1;33m\u001b[0m\u001b[0m\n",
      "\u001b[1;32mC:\\ProgramData\\Anaconda3\\lib\\site-packages\\anndata\\_core\\merge.py\u001b[0m in \u001b[0;36mconcat_arrays\u001b[1;34m(arrays, reindexers, index, fill_value)\u001b[0m\n\u001b[0;32m    323\u001b[0m     \u001b[1;32melse\u001b[0m\u001b[1;33m:\u001b[0m\u001b[1;33m\u001b[0m\u001b[1;33m\u001b[0m\u001b[0m\n\u001b[0;32m    324\u001b[0m         return np.vstack(\n\u001b[1;32m--> 325\u001b[1;33m             \u001b[1;33m[\u001b[0m\u001b[0mf\u001b[0m\u001b[1;33m(\u001b[0m\u001b[0mx\u001b[0m\u001b[1;33m,\u001b[0m \u001b[0mfill_value\u001b[0m\u001b[1;33m=\u001b[0m\u001b[0mfill_value\u001b[0m\u001b[1;33m)\u001b[0m \u001b[1;32mfor\u001b[0m \u001b[0mf\u001b[0m\u001b[1;33m,\u001b[0m \u001b[0mx\u001b[0m \u001b[1;32min\u001b[0m \u001b[0mzip\u001b[0m\u001b[1;33m(\u001b[0m\u001b[0mreindexers\u001b[0m\u001b[1;33m,\u001b[0m \u001b[0marrays\u001b[0m\u001b[1;33m)\u001b[0m\u001b[1;33m]\u001b[0m\u001b[1;33m\u001b[0m\u001b[1;33m\u001b[0m\u001b[0m\n\u001b[0m\u001b[0;32m    326\u001b[0m         )\n\u001b[0;32m    327\u001b[0m \u001b[1;33m\u001b[0m\u001b[0m\n",
      "\u001b[1;32mC:\\ProgramData\\Anaconda3\\lib\\site-packages\\anndata\\_core\\merge.py\u001b[0m in \u001b[0;36m<listcomp>\u001b[1;34m(.0)\u001b[0m\n\u001b[0;32m    323\u001b[0m     \u001b[1;32melse\u001b[0m\u001b[1;33m:\u001b[0m\u001b[1;33m\u001b[0m\u001b[1;33m\u001b[0m\u001b[0m\n\u001b[0;32m    324\u001b[0m         return np.vstack(\n\u001b[1;32m--> 325\u001b[1;33m             \u001b[1;33m[\u001b[0m\u001b[0mf\u001b[0m\u001b[1;33m(\u001b[0m\u001b[0mx\u001b[0m\u001b[1;33m,\u001b[0m \u001b[0mfill_value\u001b[0m\u001b[1;33m=\u001b[0m\u001b[0mfill_value\u001b[0m\u001b[1;33m)\u001b[0m \u001b[1;32mfor\u001b[0m \u001b[0mf\u001b[0m\u001b[1;33m,\u001b[0m \u001b[0mx\u001b[0m \u001b[1;32min\u001b[0m \u001b[0mzip\u001b[0m\u001b[1;33m(\u001b[0m\u001b[0mreindexers\u001b[0m\u001b[1;33m,\u001b[0m \u001b[0marrays\u001b[0m\u001b[1;33m)\u001b[0m\u001b[1;33m]\u001b[0m\u001b[1;33m\u001b[0m\u001b[1;33m\u001b[0m\u001b[0m\n\u001b[0m\u001b[0;32m    326\u001b[0m         )\n\u001b[0;32m    327\u001b[0m \u001b[1;33m\u001b[0m\u001b[0m\n",
      "\u001b[1;32mC:\\ProgramData\\Anaconda3\\lib\\site-packages\\anndata\\_core\\merge.py\u001b[0m in \u001b[0;36mreindexer\u001b[1;34m(X, fill_value)\u001b[0m\n\u001b[0;32m    264\u001b[0m \u001b[1;33m\u001b[0m\u001b[0m\n\u001b[0;32m    265\u001b[0m     \u001b[1;32mdef\u001b[0m \u001b[0mreindexer\u001b[0m\u001b[1;33m(\u001b[0m\u001b[0mX\u001b[0m\u001b[1;33m,\u001b[0m \u001b[0mfill_value\u001b[0m\u001b[1;33m=\u001b[0m\u001b[0mfill_value\u001b[0m\u001b[1;33m)\u001b[0m\u001b[1;33m:\u001b[0m\u001b[1;33m\u001b[0m\u001b[1;33m\u001b[0m\u001b[0m\n\u001b[1;32m--> 266\u001b[1;33m         \u001b[1;32mif\u001b[0m \u001b[1;32mnot\u001b[0m \u001b[0mnp\u001b[0m\u001b[1;33m.\u001b[0m\u001b[0mcan_cast\u001b[0m\u001b[1;33m(\u001b[0m\u001b[0mfill_value\u001b[0m\u001b[1;33m,\u001b[0m \u001b[0mX\u001b[0m\u001b[1;33m.\u001b[0m\u001b[0mdtype\u001b[0m\u001b[1;33m)\u001b[0m\u001b[1;33m:\u001b[0m\u001b[1;33m\u001b[0m\u001b[1;33m\u001b[0m\u001b[0m\n\u001b[0m\u001b[0;32m    267\u001b[0m             \u001b[0mout_dtype\u001b[0m \u001b[1;33m=\u001b[0m \u001b[0mnp\u001b[0m\u001b[1;33m.\u001b[0m\u001b[0mpromote_types\u001b[0m\u001b[1;33m(\u001b[0m\u001b[0mnp\u001b[0m\u001b[1;33m.\u001b[0m\u001b[0marray\u001b[0m\u001b[1;33m(\u001b[0m\u001b[0mfill_value\u001b[0m\u001b[1;33m)\u001b[0m\u001b[1;33m.\u001b[0m\u001b[0mdtype\u001b[0m\u001b[1;33m,\u001b[0m \u001b[0mX\u001b[0m\u001b[1;33m.\u001b[0m\u001b[0mdtype\u001b[0m\u001b[1;33m)\u001b[0m\u001b[1;33m\u001b[0m\u001b[1;33m\u001b[0m\u001b[0m\n\u001b[0;32m    268\u001b[0m         \u001b[1;32melse\u001b[0m\u001b[1;33m:\u001b[0m\u001b[1;33m\u001b[0m\u001b[1;33m\u001b[0m\u001b[0m\n",
      "\u001b[1;31mAttributeError\u001b[0m: 'NoneType' object has no attribute 'dtype'"
     ]
    }
   ],
   "source": [
    "fluxes = sc.AnnData()\n",
    "for df in [fluxes_cd8, fluxes_cd4, fluxes_B, fluxes_NK, fluxes_Monocyte]:\n",
    "    temp = sc.AnnData(X = np.array(fluxes_cd8.transpose()))\n",
    "    temp.obs['louvain_metab'] = df.columns\n",
    "    temp.var_names = df.index\n",
    "    fluxes = fluxes.concatenate(temp)\n",
    "# Integrate all in one\n"
   ]
  },
  {
   "cell_type": "code",
   "execution_count": null,
   "metadata": {},
   "outputs": [],
   "source": []
  }
 ],
 "metadata": {
  "kernelspec": {
   "display_name": "Python 3",
   "language": "python",
   "name": "python3"
  },
  "language_info": {
   "codemirror_mode": {
    "name": "ipython",
    "version": 3
   },
   "file_extension": ".py",
   "mimetype": "text/x-python",
   "name": "python",
   "nbconvert_exporter": "python",
   "pygments_lexer": "ipython3",
   "version": "3.7.7"
  }
 },
 "nbformat": 4,
 "nbformat_minor": 4
}
